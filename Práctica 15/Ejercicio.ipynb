{
 "cells": [
  {
   "cell_type": "code",
   "execution_count": 1,
   "metadata": {},
   "outputs": [],
   "source": [
    "import requests\n",
    "from bs4 import BeautifulSoup\n",
    "import csv"
   ]
  },
  {
   "cell_type": "code",
   "execution_count": null,
   "metadata": {},
   "outputs": [],
   "source": [
    "#Realizar la solicitud HTTPpara obtener el código HTML de la pagina\n",
    "url = \"https://hablemosdecinedigital.wordpress.com/2018/05/16/las-mejores-10-paginas-web-sobre-cine/\"\n",
    "respuesta = requests.get(url)\n",
    "\n",
    "html = respuesta.text\n",
    "\n",
    "soup = BeautifulSoup(html, \"html.parser\")\n",
    "#print(soup)\n",
    "\n",
    "box = soup.find('div', class_='entry-content')\n",
    "#print (box)\n",
    "lista_nombres =[]\n",
    "lista_descripcion =[]\n",
    "\n",
    "name = box.find_all('a')\n",
    "descripcion =box.find_all('p')\n",
    "\n",
    "for item in name:\n",
    "  lista_nombres.append(item.get_text(strip=True, separator=''))\n",
    "\n",
    "for item in descripcion:\n",
    "   lista_descripcion.append(item.get_text(strip=True, separator= ''))\n",
    "\n",
    "lista_descripcion.pop(1)\n",
    "lista_descripcion.pop(0)\n",
    "\n",
    "#print(lista_nombres)\n",
    "#print(lista_descripcion)\n",
    "\n",
    "with open('webcraping_python.csv', 'w') as archivos_csv_peliculas:\n",
    "  filecsv = csv.writer(archivos_csv_peliculas, delimiter=',')\n",
    "  filecsv.writerow(['Nombre' , 'Descripcion'])\n",
    "\n",
    "  for i in range (0, len(lista_nombres)):\n",
    "    filecsv.writerow([lista_nombres[i], lista_descripcion[i]])\n"
   ]
  }
 ],
 "metadata": {
  "kernelspec": {
   "display_name": "Python 3",
   "language": "python",
   "name": "python3"
  },
  "language_info": {
   "codemirror_mode": {
    "name": "ipython",
    "version": 3
   },
   "file_extension": ".py",
   "mimetype": "text/x-python",
   "name": "python",
   "nbconvert_exporter": "python",
   "pygments_lexer": "ipython3",
   "version": "3.11.1"
  }
 },
 "nbformat": 4,
 "nbformat_minor": 2
}
